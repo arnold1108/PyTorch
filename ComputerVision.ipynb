{
 "cells": [
  {
   "cell_type": "markdown",
   "id": "455ee844-bee8-4496-9633-ce3ce98255cc",
   "metadata": {
    "tags": []
   },
   "source": [
    "# PyTorch Computer Vision"
   ]
  },
  {
   "cell_type": "markdown",
   "id": "ed367715-9ba2-4cc8-b537-43282e89b6cc",
   "metadata": {},
   "source": [
    "Importing the relevant libraries"
   ]
  },
  {
   "cell_type": "code",
   "execution_count": 1,
   "id": "070c67fe-ca61-49ff-b475-efef4ddf3b06",
   "metadata": {},
   "outputs": [],
   "source": [
    "import torch \n",
    "from torch import nn\n",
    "import torchvision\n",
    "from torchvision import datasets\n",
    "from torchvision.transforms import ToTensor\n",
    "import matplotlib.pyplot as plt"
   ]
  },
  {
   "cell_type": "markdown",
   "id": "9b144572-f9dd-4298-8845-ac7ce390d9a0",
   "metadata": {},
   "source": [
    "Getting the dataset "
   ]
  },
  {
   "cell_type": "code",
   "execution_count": 2,
   "id": "f27023d3-0ab6-4449-be6f-ed386381efc9",
   "metadata": {},
   "outputs": [],
   "source": [
    "# setting up the training data\n",
    "train_data = datasets.FashionMNIST(\n",
    "    root='data',\n",
    "    train=True,\n",
    "    download=True,\n",
    "    transform=ToTensor(),\n",
    "    target_transform=None\n",
    ")\n",
    "\n",
    "# Setting up the testing data \n",
    "test_data = datasets.FashionMNIST(\n",
    "    root='data',\n",
    "    train=False,\n",
    "    download=True,\n",
    "    transform=ToTensor()\n",
    ")"
   ]
  },
  {
   "cell_type": "code",
   "execution_count": 3,
   "id": "fa055556-77e6-4586-b18b-67ec02e3b57f",
   "metadata": {},
   "outputs": [
    {
     "data": {
      "text/plain": [
       "(tensor([[[0.0000, 0.0000, 0.0000, 0.0000, 0.0039, 0.0000, 0.0000, 0.0000,\n",
       "           0.0000, 0.0863, 0.3451, 0.7373, 0.6745, 0.5176, 0.4902, 0.5529,\n",
       "           0.7804, 0.5608, 0.0353, 0.0000, 0.0000, 0.0000, 0.0039, 0.0000,\n",
       "           0.0000, 0.0000, 0.0000, 0.0000],\n",
       "          [0.0000, 0.0000, 0.0000, 0.0039, 0.0000, 0.0000, 0.0784, 0.5137,\n",
       "           0.7804, 0.8078, 0.7686, 0.7922, 0.9490, 1.0000, 1.0000, 0.9804,\n",
       "           0.8706, 0.7725, 0.8078, 0.7373, 0.4941, 0.0667, 0.0000, 0.0000,\n",
       "           0.0000, 0.0000, 0.0000, 0.0000],\n",
       "          [0.0000, 0.0000, 0.0000, 0.0039, 0.0000, 0.1373, 0.8392, 0.7490,\n",
       "           0.7176, 0.6980, 0.6863, 0.6588, 0.5882, 0.6353, 0.6235, 0.5961,\n",
       "           0.6196, 0.7020, 0.7176, 0.7412, 0.7647, 0.7255, 0.3216, 0.0000,\n",
       "           0.0000, 0.0000, 0.0000, 0.0000],\n",
       "          [0.0000, 0.0000, 0.0000, 0.0000, 0.0000, 0.6667, 0.7451, 0.6745,\n",
       "           0.6941, 0.6902, 0.6706, 0.6627, 0.6353, 0.6078, 0.5804, 0.6039,\n",
       "           0.6627, 0.6824, 0.6863, 0.6863, 0.6941, 0.7176, 0.7373, 0.0471,\n",
       "           0.0000, 0.0000, 0.0000, 0.0000],\n",
       "          [0.0000, 0.0000, 0.0000, 0.0000, 0.0980, 0.7608, 0.7059, 0.6980,\n",
       "           0.6824, 0.7216, 0.7333, 0.7412, 0.7333, 0.7216, 0.7098, 0.7412,\n",
       "           0.7843, 0.7725, 0.7569, 0.7451, 0.6980, 0.6863, 0.7608, 0.3529,\n",
       "           0.0000, 0.0000, 0.0000, 0.0000],\n",
       "          [0.0000, 0.0000, 0.0000, 0.0000, 0.1647, 0.8549, 0.7490, 0.7725,\n",
       "           0.8157, 0.8000, 0.8275, 0.8196, 0.8235, 0.8314, 0.8275, 0.8392,\n",
       "           0.8431, 0.8353, 0.8392, 0.8275, 0.8275, 0.7490, 0.7843, 0.6196,\n",
       "           0.0000, 0.0000, 0.0000, 0.0000],\n",
       "          [0.0000, 0.0000, 0.0000, 0.0000, 0.3451, 0.8667, 0.8431, 0.8510,\n",
       "           0.8588, 0.8275, 0.7255, 0.5882, 0.4627, 0.4196, 0.3882, 0.3451,\n",
       "           0.3255, 0.3529, 0.5294, 0.8314, 0.7961, 0.8118, 0.8588, 0.6627,\n",
       "           0.0000, 0.0000, 0.0000, 0.0000],\n",
       "          [0.0000, 0.0000, 0.0000, 0.0000, 0.0000, 0.1059, 0.4627, 0.6353,\n",
       "           0.1569, 0.0000, 0.0000, 0.0000, 0.0392, 0.0745, 0.1098, 0.1529,\n",
       "           0.1843, 0.1412, 0.0000, 0.0000, 0.7961, 0.9020, 0.8627, 0.7961,\n",
       "           0.0000, 0.0000, 0.0000, 0.0000],\n",
       "          [0.0000, 0.0000, 0.0000, 0.0000, 0.5412, 0.5333, 0.2784, 0.2706,\n",
       "           0.2118, 0.8471, 0.8510, 0.7961, 0.7216, 0.6588, 0.6392, 0.6353,\n",
       "           0.6392, 0.6980, 0.8667, 0.7294, 0.1490, 0.1020, 0.0275, 0.0000,\n",
       "           0.0000, 0.0000, 0.0000, 0.0000],\n",
       "          [0.0000, 0.0000, 0.0000, 0.0000, 0.2627, 0.5255, 0.6039, 0.8784,\n",
       "           0.5059, 0.2588, 0.3176, 0.4588, 0.5059, 0.5020, 0.5176, 0.5373,\n",
       "           0.5137, 0.5059, 0.3373, 0.2863, 0.6157, 0.5922, 0.5255, 0.8471,\n",
       "           0.0706, 0.0000, 0.0000, 0.0000],\n",
       "          [0.0000, 0.0000, 0.0000, 0.0000, 0.7961, 0.7765, 0.6745, 0.7176,\n",
       "           0.8078, 1.0000, 1.0000, 0.9804, 0.9529, 0.9412, 0.9373, 0.9216,\n",
       "           0.9333, 0.9569, 1.0000, 0.9333, 0.7216, 0.6275, 0.3373, 0.3843,\n",
       "           0.0000, 0.0000, 0.0000, 0.0000],\n",
       "          [0.0000, 0.0000, 0.0000, 0.0000, 0.4784, 0.7373, 0.8784, 0.5922,\n",
       "           0.4118, 0.4980, 0.3804, 0.3922, 0.4118, 0.4471, 0.4588, 0.4588,\n",
       "           0.4431, 0.4039, 0.3843, 0.4353, 0.5569, 0.9961, 0.7490, 1.0000,\n",
       "           0.1922, 0.0000, 0.0000, 0.0000],\n",
       "          [0.0000, 0.0000, 0.0000, 0.0000, 0.6392, 0.7020, 0.7843, 0.3725,\n",
       "           0.6039, 0.7765, 0.7725, 0.7843, 0.7843, 0.7765, 0.7725, 0.7765,\n",
       "           0.7804, 0.7922, 0.7843, 0.6902, 0.3373, 0.8078, 0.6157, 0.6353,\n",
       "           0.0392, 0.0000, 0.0000, 0.0000],\n",
       "          [0.0000, 0.0000, 0.0000, 0.0000, 0.7725, 0.7882, 0.8980, 0.2784,\n",
       "           0.5647, 0.7608, 0.7098, 0.7176, 0.7020, 0.7137, 0.7059, 0.7020,\n",
       "           0.7059, 0.7451, 0.7255, 0.7725, 0.2980, 0.8588, 0.7255, 0.7882,\n",
       "           0.1333, 0.0000, 0.0000, 0.0000],\n",
       "          [0.0000, 0.0000, 0.0000, 0.0000, 0.7804, 0.7569, 0.8863, 0.2275,\n",
       "           0.6039, 0.7529, 0.7216, 0.7333, 0.7216, 0.7294, 0.7216, 0.7255,\n",
       "           0.7176, 0.7529, 0.7490, 0.7843, 0.2196, 0.8588, 0.7961, 0.8118,\n",
       "           0.2353, 0.0000, 0.0000, 0.0000],\n",
       "          [0.0000, 0.0000, 0.0000, 0.0000, 0.7882, 0.7608, 0.8784, 0.1608,\n",
       "           0.6392, 0.7451, 0.7294, 0.7294, 0.7216, 0.7255, 0.7176, 0.7255,\n",
       "           0.6980, 0.7451, 0.7608, 0.7922, 0.1294, 0.8275, 0.7843, 0.8078,\n",
       "           0.2863, 0.0000, 0.0000, 0.0000],\n",
       "          [0.0000, 0.0000, 0.0000, 0.0000, 0.7882, 0.7725, 0.8706, 0.0667,\n",
       "           0.6745, 0.7451, 0.7294, 0.7333, 0.7137, 0.7294, 0.7255, 0.7333,\n",
       "           0.7059, 0.7333, 0.7569, 0.7922, 0.1020, 0.8314, 0.7922, 0.7961,\n",
       "           0.2980, 0.0000, 0.0000, 0.0000],\n",
       "          [0.0000, 0.0000, 0.0000, 0.0000, 0.7843, 0.7725, 0.8745, 0.0000,\n",
       "           0.6941, 0.7412, 0.7216, 0.7255, 0.6980, 0.7216, 0.7176, 0.7216,\n",
       "           0.7059, 0.7176, 0.7412, 0.7961, 0.1373, 0.7686, 0.7961, 0.7961,\n",
       "           0.3294, 0.0000, 0.0000, 0.0000],\n",
       "          [0.0000, 0.0000, 0.0000, 0.0000, 0.7843, 0.7725, 0.8745, 0.0000,\n",
       "           0.7255, 0.7333, 0.7255, 0.7333, 0.7059, 0.7216, 0.7137, 0.7176,\n",
       "           0.6980, 0.7137, 0.7176, 0.8039, 0.1725, 0.6235, 0.8118, 0.7882,\n",
       "           0.3333, 0.0000, 0.0000, 0.0000],\n",
       "          [0.0000, 0.0000, 0.0000, 0.0000, 0.7333, 0.7765, 0.8824, 0.0000,\n",
       "           0.7608, 0.7373, 0.7216, 0.7255, 0.7059, 0.7176, 0.7176, 0.7216,\n",
       "           0.7098, 0.7098, 0.6941, 0.8078, 0.1804, 0.5059, 0.8275, 0.7843,\n",
       "           0.3451, 0.0000, 0.0000, 0.0000],\n",
       "          [0.0000, 0.0000, 0.0000, 0.0235, 0.7294, 0.7843, 0.8275, 0.0000,\n",
       "           0.7804, 0.7412, 0.7216, 0.7216, 0.7255, 0.7137, 0.7176, 0.7216,\n",
       "           0.7255, 0.7137, 0.6863, 0.8039, 0.1961, 0.3804, 0.8471, 0.7725,\n",
       "           0.3647, 0.0000, 0.0000, 0.0000],\n",
       "          [0.0000, 0.0000, 0.0000, 0.0196, 0.7255, 0.8000, 0.7216, 0.0000,\n",
       "           0.7922, 0.7373, 0.7137, 0.7137, 0.7176, 0.7176, 0.7216, 0.7137,\n",
       "           0.7059, 0.7137, 0.6824, 0.7922, 0.2471, 0.2314, 0.8627, 0.7686,\n",
       "           0.3686, 0.0000, 0.0000, 0.0000],\n",
       "          [0.0000, 0.0000, 0.0000, 0.0196, 0.7216, 0.8078, 0.6157, 0.0000,\n",
       "           0.8000, 0.7333, 0.7333, 0.7412, 0.7529, 0.7451, 0.7451, 0.7490,\n",
       "           0.7451, 0.7333, 0.7176, 0.7922, 0.3059, 0.1373, 0.8706, 0.7725,\n",
       "           0.3725, 0.0000, 0.0000, 0.0000],\n",
       "          [0.0000, 0.0000, 0.0000, 0.0196, 0.7176, 0.8157, 0.4980, 0.0000,\n",
       "           0.7725, 0.6510, 0.6000, 0.5843, 0.5843, 0.5725, 0.5804, 0.5843,\n",
       "           0.5882, 0.5922, 0.6196, 0.7490, 0.3529, 0.0314, 0.8745, 0.7647,\n",
       "           0.3882, 0.0000, 0.0000, 0.0000],\n",
       "          [0.0000, 0.0000, 0.0000, 0.0235, 0.7216, 0.8157, 0.4471, 0.0000,\n",
       "           0.8000, 0.6784, 0.6314, 0.7059, 0.6902, 0.6745, 0.6784, 0.6784,\n",
       "           0.6824, 0.6902, 0.6353, 0.7922, 0.4510, 0.0000, 0.8980, 0.7804,\n",
       "           0.4118, 0.0000, 0.0000, 0.0000],\n",
       "          [0.0000, 0.0000, 0.0000, 0.0353, 0.6980, 0.8000, 0.4510, 0.0000,\n",
       "           0.4745, 0.5294, 0.4471, 0.4588, 0.4471, 0.4471, 0.4588, 0.4627,\n",
       "           0.4667, 0.4588, 0.4431, 0.5765, 0.2471, 0.0000, 0.8824, 0.7686,\n",
       "           0.4196, 0.0000, 0.0000, 0.0000],\n",
       "          [0.0000, 0.0000, 0.0000, 0.0706, 0.7059, 0.8078, 0.5137, 0.0000,\n",
       "           0.0000, 0.0000, 0.0000, 0.0000, 0.0000, 0.0000, 0.0000, 0.0000,\n",
       "           0.0000, 0.0000, 0.0000, 0.0000, 0.0000, 0.0000, 0.8784, 0.7725,\n",
       "           0.4824, 0.0000, 0.0000, 0.0000],\n",
       "          [0.0000, 0.0000, 0.0000, 0.0000, 0.5529, 0.5922, 0.2980, 0.0000,\n",
       "           0.0039, 0.0039, 0.0000, 0.0000, 0.0000, 0.0000, 0.0000, 0.0000,\n",
       "           0.0000, 0.0000, 0.0000, 0.0000, 0.0000, 0.0000, 0.5216, 0.6549,\n",
       "           0.2863, 0.0000, 0.0000, 0.0000]]]),\n",
       " 2)"
      ]
     },
     "execution_count": 3,
     "metadata": {},
     "output_type": "execute_result"
    }
   ],
   "source": [
    "# checking the first training sample\n",
    "image, label = train_data[5]\n",
    "image, label"
   ]
  },
  {
   "cell_type": "code",
   "execution_count": 4,
   "id": "4869e862-3183-4389-b7d1-2015e70a7fcc",
   "metadata": {},
   "outputs": [
    {
     "data": {
      "text/plain": [
       "torch.Size([1, 28, 28])"
      ]
     },
     "execution_count": 4,
     "metadata": {},
     "output_type": "execute_result"
    }
   ],
   "source": [
    "# The shape of the image\n",
    "image.shape"
   ]
  },
  {
   "cell_type": "markdown",
   "id": "1c26e721-e540-4fb9-a7d5-1d2bb8f10ccd",
   "metadata": {},
   "source": [
    "Checking the samples of the training and testing datasets"
   ]
  },
  {
   "cell_type": "code",
   "execution_count": 5,
   "id": "6980b321-dbc3-447c-9900-38d0369c4437",
   "metadata": {},
   "outputs": [
    {
     "data": {
      "text/plain": [
       "(60000, 10000)"
      ]
     },
     "execution_count": 5,
     "metadata": {},
     "output_type": "execute_result"
    }
   ],
   "source": [
    "len(train_data), len(test_data)"
   ]
  },
  {
   "cell_type": "markdown",
   "id": "89a84154-d0c0-463a-b785-4ac9806a90d3",
   "metadata": {},
   "source": [
    "We have 60000 training data and 10000 testing data. We now check the classes"
   ]
  },
  {
   "cell_type": "code",
   "execution_count": 6,
   "id": "1f275a60-55c9-4645-8c5a-3c72e12b54de",
   "metadata": {},
   "outputs": [
    {
     "data": {
      "text/plain": [
       "['T-shirt/top',\n",
       " 'Trouser',\n",
       " 'Pullover',\n",
       " 'Dress',\n",
       " 'Coat',\n",
       " 'Sandal',\n",
       " 'Shirt',\n",
       " 'Sneaker',\n",
       " 'Bag',\n",
       " 'Ankle boot']"
      ]
     },
     "execution_count": 6,
     "metadata": {},
     "output_type": "execute_result"
    }
   ],
   "source": [
    "class_names = train_data.classes\n",
    "class_names"
   ]
  },
  {
   "cell_type": "markdown",
   "id": "0f8c29e8-696d-4f13-afec-c7d2ee20d1d8",
   "metadata": {},
   "source": [
    "We are dealing with 10 different kinds of clothes, therefore our problem is multiclass "
   ]
  },
  {
   "cell_type": "code",
   "execution_count": 7,
   "id": "ea7ef4f8-f5fb-45c1-8060-c0b1f9fe7447",
   "metadata": {},
   "outputs": [
    {
     "name": "stdout",
     "output_type": "stream",
     "text": [
      "image shape is  torch.Size([1, 28, 28])\n"
     ]
    },
    {
     "data": {
      "text/plain": [
       "Text(0.5, 1.0, '2')"
      ]
     },
     "execution_count": 7,
     "metadata": {},
     "output_type": "execute_result"
    },
    {
     "data": {
      "image/png": "[encoded data removed]",
      "text/plain": [
       "<Figure size 640x480 with 1 Axes>"
      ]
     },
     "metadata": {},
     "output_type": "display_data"
    }
   ],
   "source": [
    "print('image shape is ', image.shape)\n",
    "plt.imshow(image.squeeze(), cmap='gray') #cmap turns the image into grey\n",
    "plt.title(label)"
   ]
  },
  {
   "cell_type": "markdown",
   "id": "fc157079-d78b-40d2-b163-686bb29e964d",
   "metadata": {},
   "source": [
    "We can view a few more images"
   ]
  },
  {
   "cell_type": "code",
   "execution_count": 8,
   "id": "37411a33-14e6-46d3-8a3a-e3d1e34447ac",
   "metadata": {},
   "outputs": [
    {
     "data": {
      "image/png": "[encoded data removed]",
      "text/plain": [
       "<Figure size 600x600 with 9 Axes>"
      ]
     },
     "metadata": {},
     "output_type": "display_data"
    }
   ],
   "source": [
    "torch.manual_seed(4)\n",
    "rows, cols = 3, 3\n",
    "fig = plt.figure(figsize=(6,6))\n",
    "for i in range(1, rows * cols +1):\n",
    "    random_index = torch.randint(0, len(train_data), size=[1]).item()\n",
    "    img, label = train_data[random_index]\n",
    "    fig.add_subplot(rows, cols, i)\n",
    "    plt.imshow(img.squeeze())\n",
    "    plt.title(class_names[label])\n",
    "    plt.axis(False)\n",
    "  "
   ]
  },
  {
   "cell_type": "markdown",
   "id": "0a24a97a-3e4b-461b-81c3-eee770330827",
   "metadata": {},
   "source": [
    "## Prepating DataLoader"
   ]
  },
  {
   "cell_type": "code",
   "execution_count": 9,
   "id": "f3e5b79c-057a-48ec-b321-8f4b295176ad",
   "metadata": {},
   "outputs": [],
   "source": [
    "from torch.utils.data import DataLoader"
   ]
  },
  {
   "cell_type": "code",
   "execution_count": 55,
   "id": "9d1b1e02-f443-4387-ab8e-b080ba6ff6e1",
   "metadata": {},
   "outputs": [
    {
     "name": "stdout",
     "output_type": "stream",
     "text": [
      "length of the train_dataloader is 1875 and the length of the test_dataloader is 313 . The batchsize is 32\n"
     ]
    }
   ],
   "source": [
    "# setting up the batchsize hyperparameter\n",
    "batch = 32\n",
    "\n",
    "# Turning the dataset into iterable batches\n",
    "train_dataloader = DataLoader(\n",
    "    train_data, \n",
    "    batch_size = batch,\n",
    "    shuffle=True\n",
    ")\n",
    "\n",
    "test_dataloader = DataLoader(\n",
    "    test_data,\n",
    "    batch_size = batch,\n",
    "    shuffle=False # Not necessary to shuffle the testing data\n",
    ")\n",
    "\n",
    "# Inspecting our dataloaders\n",
    "print('length of the train_dataloader is',\n",
    "     len(train_dataloader), 'and the length of the test_dataloader is',\n",
    "        len(test_dataloader), '. The batchsize is', batch)"
   ]
  },
  {
   "cell_type": "markdown",
   "id": "f666153a-f4f4-4ada-9884-28f805285445",
   "metadata": {},
   "source": [
    "## Building a Baseline Model"
   ]
  },
  {
   "cell_type": "code",
   "execution_count": 11,
   "id": "a3868f6f-5108-4e12-808d-e353d33c028c",
   "metadata": {},
   "outputs": [
    {
     "data": {
      "text/plain": [
       "(torch.Size([32, 1, 28, 28]), torch.Size([32]))"
      ]
     },
     "execution_count": 11,
     "metadata": {},
     "output_type": "execute_result"
    }
   ],
   "source": [
    "train_features_batch, train_label_batch = next(iter(train_dataloader))\n",
    "train_features_batch.shape, train_label_batch.shape"
   ]
  },
  {
   "cell_type": "code",
   "execution_count": 12,
   "id": "e4de222c-2897-4a38-a2ad-5f4627730955",
   "metadata": {},
   "outputs": [
    {
     "data": {
      "text/plain": [
       "(torch.Size([1, 28, 28]), torch.Size([1, 784]))"
      ]
     },
     "execution_count": 12,
     "metadata": {},
     "output_type": "execute_result"
    }
   ],
   "source": [
    "# Creating a flattening later\n",
    "flatten_model = nn.Flatten() # All nn Modules function as a model, and can do a forward pass\n",
    "\n",
    "# getting a single sample\n",
    "x = train_features_batch[0]\n",
    "\n",
    "# Flattening our sample\n",
    "output = flatten_model(x)\n",
    "x.shape, output.shape"
   ]
  },
  {
   "cell_type": "markdown",
   "id": "7b3955ed-0d4b-4914-8507-3321199ebbad",
   "metadata": {},
   "source": [
    "We flatttened our data sample, taking it from the shape [color_channels, height, width] to [color_channels, height*width]. This turns the data into one long vector, so that it can work well with *nn.Linear()* layers"
   ]
  },
  {
   "cell_type": "markdown",
   "id": "e8745939-9e75-46b0-820c-6867047d3dbf",
   "metadata": {},
   "source": [
    "Creating ur first model with nn.Flatten() as the first layer"
   ]
  },
  {
   "cell_type": "code",
   "execution_count": 26,
   "id": "5d45cf19-b033-4311-a88b-f3e871d522f0",
   "metadata": {},
   "outputs": [],
   "source": [
    "class MMISTModel(nn.Module):\n",
    "    def __init__(self, input_shape: int, hidden_units: int, output_shape: int):\n",
    "        super ().__init__()\n",
    "        self.layer_stack = nn.Sequential(\n",
    "            nn.Flatten(), # Neural Nets like their input in vectors\n",
    "            nn.Linear(in_features=input_shape, out_features=hidden_units),\n",
    "            nn.ReLU(),\n",
    "            nn.Linear(in_features=hidden_units, out_features=output_shape)\n",
    "        )\n",
    "        \n",
    "    def forward(self, x):\n",
    "        return self.layer_stack(x)"
   ]
  },
  {
   "cell_type": "markdown",
   "id": "9ce0f210-0dc2-40e9-ad7c-e8bc0b787a02",
   "metadata": {},
   "source": [
    "We will now instantiate a model by setting the relevant parameters"
   ]
  },
  {
   "cell_type": "code",
   "execution_count": 28,
   "id": "43177aa7-45e0-4b01-a5dc-e621e213676e",
   "metadata": {},
   "outputs": [
    {
     "data": {
      "text/plain": [
       "MMISTModel(\n",
       "  (layer_stack): Sequential(\n",
       "    (0): Flatten(start_dim=1, end_dim=-1)\n",
       "    (1): Linear(in_features=784, out_features=10, bias=True)\n",
       "    (2): ReLU()\n",
       "    (3): Linear(in_features=10, out_features=10, bias=True)\n",
       "  )\n",
       ")"
      ]
     },
     "execution_count": 28,
     "metadata": {},
     "output_type": "execute_result"
    }
   ],
   "source": [
    "torch.manual_seed(40)\n",
    "\n",
    "# A model with input parameters\n",
    "model = MMISTModel(input_shape=784, # One for every pixel \n",
    "                            hidden_units=10, # The number of units in the hidden layer of the nn\n",
    "                            output_shape=len(class_names)) # One for every class\n",
    "model"
   ]
  },
  {
   "cell_type": "markdown",
   "id": "a860c2a8-32a0-4543-a727-bd9b4c3db504",
   "metadata": {},
   "source": [
    "## Setting up the Loss, optimizer and evaluation metrics"
   ]
  },
  {
   "cell_type": "code",
   "execution_count": 30,
   "id": "3d3ad718-17b7-49b6-9854-d5ffc914e32c",
   "metadata": {},
   "outputs": [],
   "source": [
    "import requests\n",
    "from pathlib import Path"
   ]
  },
  {
   "cell_type": "code",
   "execution_count": 33,
   "id": "8d9b17e1-7cef-4bf6-9173-519a82d5d1dd",
   "metadata": {},
   "outputs": [
    {
     "name": "stdout",
     "output_type": "stream",
     "text": [
      "Downloading helper functions.py...\n"
     ]
    }
   ],
   "source": [
    "if Path('helper_functions.py').is_file():\n",
    "    print('helper_functions.py already exists!')\n",
    "    \n",
    "else:\n",
    "    print('Downloading helper functions.py...')\n",
    "    request = requests.get('https://raw.githubusercontent.com/mrdbourke/pytorch-deep-learning/main/helper_functions.py')\n",
    "    with open('helper_functions.py', 'wb') as f:\n",
    "        f.write(request.content)"
   ]
  },
  {
   "cell_type": "code",
   "execution_count": 35,
   "id": "767eb00f-cddc-43ea-ac26-a5571d3ecc20",
   "metadata": {},
   "outputs": [],
   "source": [
    "# Importing the accuracy metric\n",
    "from helper_functions import accuracy_fn \n",
    "\n",
    "# Setting up the loss and optimizer\n",
    "loss_fn = nn.CrossEntropyLoss()\n",
    "optimizer = torch.optim.SGD(params = model.parameters(), lr=0.01)"
   ]
  },
  {
   "cell_type": "markdown",
   "id": "a9e5c4a4-fb7e-455a-a8ea-d16a109ebe39",
   "metadata": {},
   "source": [
    "## Training our model using the conventional method"
   ]
  },
  {
   "cell_type": "code",
   "execution_count": 64,
   "id": "2f8e90f9-e9a4-4e6a-9ff8-994aea3ccf8c",
   "metadata": {},
   "outputs": [
    {
     "name": "stdout",
     "output_type": "stream",
     "text": [
      "Epoch:  0\n",
      "looked at  0 samples\n",
      "looked at  12800 samples\n",
      "looked at  25600 samples\n",
      "looked at  38400 samples\n",
      "looked at  51200 samples\n",
      "Train Loss:  tensor(0.3695, grad_fn=<DivBackward0>) | Test Loss:  tensor(0.4318) | Test Accuracy:  84.50479233226837\n",
      "Epoch:  1\n",
      "looked at  0 samples\n",
      "looked at  12800 samples\n",
      "looked at  25600 samples\n",
      "looked at  38400 samples\n",
      "looked at  51200 samples\n",
      "Train Loss:  tensor(0.3682, grad_fn=<DivBackward0>) | Test Loss:  tensor(0.4184) | Test Accuracy:  85.55311501597444\n",
      "Epoch:  2\n",
      "looked at  0 samples\n",
      "looked at  12800 samples\n",
      "looked at  25600 samples\n",
      "looked at  38400 samples\n",
      "looked at  51200 samples\n",
      "Train Loss:  tensor(0.3668, grad_fn=<DivBackward0>) | Test Loss:  tensor(0.4231) | Test Accuracy:  85.15375399361022\n",
      "Epoch:  3\n",
      "looked at  0 samples\n",
      "looked at  12800 samples\n",
      "looked at  25600 samples\n",
      "looked at  38400 samples\n",
      "looked at  51200 samples\n",
      "Train Loss:  tensor(0.3659, grad_fn=<DivBackward0>) | Test Loss:  tensor(0.4322) | Test Accuracy:  84.78434504792332\n",
      "Epoch:  4\n",
      "looked at  0 samples\n",
      "looked at  12800 samples\n",
      "looked at  25600 samples\n",
      "looked at  38400 samples\n",
      "looked at  51200 samples\n",
      "Train Loss:  tensor(0.3648, grad_fn=<DivBackward0>) | Test Loss:  tensor(0.4219) | Test Accuracy:  85.38338658146965\n"
     ]
    }
   ],
   "source": [
    "epochs = 5\n",
    "for epoch in range(epochs):\n",
    "    print('Epoch: ', epoch)\n",
    "    \n",
    "    # TRAINING\n",
    "    train_loss = 0\n",
    "    for batch, (x, y) in enumerate(train_dataloader):\n",
    "        model.train()\n",
    "        # Forward pass\n",
    "        y_pred = model(x)\n",
    "        \n",
    "        # Calculating the loss\n",
    "        loss = loss_fn(y_pred, y)\n",
    "        train_loss +=loss # Cummulatively add up the loss per epoch\n",
    "        \n",
    "        # Zero Gradient\n",
    "        optimizer.zero_grad()\n",
    "        \n",
    "        # Back propagation of the loss\n",
    "        loss.backward()\n",
    "        \n",
    "        # Optimizer step\n",
    "        optimizer.step()\n",
    "        \n",
    "        # Printing out the samples we have seen\n",
    "        if batch % 400 == 0:\n",
    "            print('looked at ', batch * len(x),  'samples')\n",
    "    train_loss /= len(train_dataloader)\n",
    "    \n",
    "    # TESTING\n",
    "    test_loss, test_acc = 0, 0\n",
    "    model.eval()\n",
    "    with torch.inference_mode():\n",
    "        for x, y in test_dataloader:\n",
    "            \n",
    "            # Forward Pass\n",
    "            test_pred = model(x)\n",
    "            \n",
    "            # Calculate the Loss\n",
    "            loss = loss_fn(test_pred, y)\n",
    "            test_loss += loss\n",
    "            \n",
    "            # Calculate the accuracy\n",
    "            test_acc +=accuracy_fn(y_true=y, y_pred=test_pred.argmax(dim=1))\n",
    "            \n",
    "        # Calculating the test metrics\n",
    "        test_loss /= len(test_dataloader)\n",
    "        test_acc /= len(test_dataloader)\n",
    "        \n",
    "    print('Train Loss: ', train_loss, '| Test Loss: ', test_loss, '| Test Accuracy: ', test_acc)\n",
    "\n",
    "    "
   ]
  },
  {
   "cell_type": "markdown",
   "id": "154487b9-fb0a-4aee-b583-548eac1eb582",
   "metadata": {},
   "source": [
    "## Building a Convolutional Neural Network Model"
   ]
  },
  {
   "cell_type": "code",
   "execution_count": null,
   "id": "5fe0e8d8-be6c-4b1b-b7f4-09e4450aa715",
   "metadata": {},
   "outputs": [],
   "source": [
    "class FashionMNISTModel"
   ]
  }
 ],
 "metadata": {
  "kernelspec": {
   "display_name": "Python 3 (ipykernel)",
   "language": "python",
   "name": "python3"
  },
  "language_info": {
   "codemirror_mode": {
    "name": "ipython",
    "version": 3
   },
   "file_extension": ".py",
   "mimetype": "text/x-python",
   "name": "python",
   "nbconvert_exporter": "python",
   "pygments_lexer": "ipython3",
   "version": "3.9.13"
  }
 },
 "nbformat": 4,
 "nbformat_minor": 5
}
